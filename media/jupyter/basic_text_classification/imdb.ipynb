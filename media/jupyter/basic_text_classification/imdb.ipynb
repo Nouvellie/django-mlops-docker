{
 "cells": [
  {
   "cell_type": "code",
   "execution_count": 1,
   "id": "d87079ed-5716-48df-a574-78497ff37c6e",
   "metadata": {},
   "outputs": [
    {
     "name": "stdout",
     "output_type": "stream",
     "text": [
      "2.6.0\n"
     ]
    }
   ],
   "source": [
    "# https://www.tensorflow.org/tutorials/keras/text_classification\n",
    "\n",
    "import matplotlib.pyplot as plt\n",
    "import os\n",
    "import re\n",
    "import shutil\n",
    "import string\n",
    "import tensorflow as tf\n",
    "\n",
    "from tensorflow.keras import layers\n",
    "from tensorflow.keras import losses\n",
    "from tensorflow.keras import preprocessing\n",
    "from tensorflow.keras.layers.experimental.preprocessing import TextVectorization\n",
    "print(tf.__version__)"
   ]
  },
  {
   "cell_type": "code",
   "execution_count": 2,
   "id": "6447446e-9226-4c98-86ad-ce31b994ae54",
   "metadata": {
    "tags": []
   },
   "outputs": [
    {
     "name": "stdout",
     "output_type": "stream",
     "text": [
      "Downloading data from https://ai.stanford.edu/~amaas/data/sentiment/aclImdb_v1.tar.gz\n",
      "Downloading data from http://ai.stanford.edu/~amaas/data/sentiment/aclImdb_v1.tar.gz\n",
      "84131840/84125825 [==============================] - 24s 0us/step\n",
      "84140032/84125825 [==============================] - 24s 0us/step\n"
     ]
    }
   ],
   "source": [
    "# Sentiment analysis. (Download and extract the dataset)\n",
    "\"\"\"This notebook trains a sentiment analysis model to classify movie reviews as positive or negative, \n",
    "based on the text of the review\"\"\"\n",
    "\n",
    "https_url = \"https://ai.stanford.edu/~amaas/data/sentiment/aclImdb_v1.tar.gz\"\n",
    "http_url = \"http://ai.stanford.edu/~amaas/data/sentiment/aclImdb_v1.tar.gz\"\n",
    "try:\n",
    "    dataset = tf.keras.utils.get_file(\"aclImdb_v1\", https_url,\n",
    "                                        untar=True, cache_dir='.',\n",
    "                                        cache_subdir='')\n",
    "except:\n",
    "    dataset = tf.keras.utils.get_file(\"aclImdb_v1\", http_url,\n",
    "                                    untar=True, cache_dir='.',\n",
    "                                    cache_subdir='')\n",
    "dataset_dir = os.path.join(os.path.dirname(dataset), 'aclImdb')"
   ]
  },
  {
   "cell_type": "code",
   "execution_count": 3,
   "id": "62cb4cb2-9d5e-4b73-b2b9-2a8406edc309",
   "metadata": {},
   "outputs": [
    {
     "data": {
      "text/plain": [
       "['README', 'test', 'imdb.vocab', 'train', 'imdbEr.txt']"
      ]
     },
     "execution_count": 3,
     "metadata": {},
     "output_type": "execute_result"
    }
   ],
   "source": [
    "# Directory structure.\n",
    "os.listdir(dataset_dir)"
   ]
  },
  {
   "cell_type": "code",
   "execution_count": 4,
   "id": "cb46dafe-1cbb-4be0-80ef-47ccdec41a0b",
   "metadata": {},
   "outputs": [
    {
     "data": {
      "text/plain": [
       "['urls_unsup.txt',\n",
       " 'neg',\n",
       " 'urls_pos.txt',\n",
       " 'unsup',\n",
       " 'urls_neg.txt',\n",
       " 'pos',\n",
       " 'labeledBow.feat',\n",
       " 'unsupBow.feat']"
      ]
     },
     "execution_count": 4,
     "metadata": {},
     "output_type": "execute_result"
    }
   ],
   "source": [
    "# Train dir.\n",
    "train_dir = os.path.join(dataset_dir, 'train')\n",
    "os.listdir(train_dir)"
   ]
  },
  {
   "cell_type": "code",
   "execution_count": 5,
   "id": "4bf5a488-991d-4419-b97c-c513c9130dc1",
   "metadata": {},
   "outputs": [
    {
     "name": "stdout",
     "output_type": "stream",
     "text": [
      "Rachel Griffiths writes and directs this award winning short film. A heartwarming story about coping with grief and cherishing the memory of those we've loved and lost. Although, only 15 minutes long, Griffiths manages to capture so much emotion and truth onto film in the short space of time. Bud Tingwell gives a touching performance as Will, a widower struggling to cope with his wife's death. Will is confronted by the harsh reality of loneliness and helplessness as he proceeds to take care of Ruth's pet cow, Tulip. The film displays the grief and responsibility one feels for those they have loved and lost. Good cinematography, great direction, and superbly acted. It will bring tears to all those who have lost a loved one, and survived.\n"
     ]
    }
   ],
   "source": [
    "# Directories contain many text files, each of which is a single movie review.\n",
    "sample_file = os.path.join(train_dir, 'pos/1181_9.txt')\n",
    "with open(sample_file) as f:\n",
    "    print(f.read())"
   ]
  },
  {
   "cell_type": "markdown",
   "id": "1c766e53-0dd4-458c-aede-04b0501d4392",
   "metadata": {},
   "source": [
    "# Load the dataset."
   ]
  },
  {
   "cell_type": "code",
   "execution_count": 6,
   "id": "bdffa82e-fc1d-4030-8b30-3b8b6c4acf06",
   "metadata": {},
   "outputs": [],
   "source": [
    "# Remove dataset additional folders.\n",
    "remove_dir = os.path.join(train_dir, 'unsup')\n",
    "shutil.rmtree(remove_dir)"
   ]
  },
  {
   "cell_type": "code",
   "execution_count": 7,
   "id": "cb50f2ca-77d4-463d-a40d-14476098c368",
   "metadata": {},
   "outputs": [
    {
     "name": "stdout",
     "output_type": "stream",
     "text": [
      "Found 25000 files belonging to 2 classes.\n",
      "Using 20000 files for training.\n"
     ]
    },
    {
     "name": "stderr",
     "output_type": "stream",
     "text": [
      "2021-08-12 03:33:06.649199: I tensorflow/core/platform/cpu_feature_guard.cc:142] This TensorFlow binary is optimized with oneAPI Deep Neural Network Library (oneDNN) to use the following CPU instructions in performance-critical operations:  AVX2 FMA\n",
      "To enable them in other operations, rebuild TensorFlow with the appropriate compiler flags.\n"
     ]
    }
   ],
   "source": [
    "# Create a validation set. (80:20)\n",
    "batch_size = 32\n",
    "seed = 42\n",
    "\n",
    "raw_train_ds = tf.keras.preprocessing.text_dataset_from_directory(\n",
    "    'aclImdb/train', \n",
    "    batch_size=batch_size, \n",
    "    validation_split=0.2, \n",
    "    subset='training', \n",
    "    seed=seed)"
   ]
  },
  {
   "cell_type": "code",
   "execution_count": 8,
   "id": "db4efcd7-80d9-47dd-a6ce-6b35d87df515",
   "metadata": {},
   "outputs": [
    {
     "name": "stderr",
     "output_type": "stream",
     "text": [
      "2021-08-12 03:33:06.830655: I tensorflow/compiler/mlir/mlir_graph_optimization_pass.cc:185] None of the MLIR Optimization Passes are enabled (registered 2)\n"
     ]
    },
    {
     "name": "stdout",
     "output_type": "stream",
     "text": [
      "Review b'\"Pandemonium\" is a horror movie spoof that comes off more stupid than funny. Believe me when I tell you, I love comedies. Especially comedy spoofs. \"Airplane\", \"The Naked Gun\" trilogy, \"Blazing Saddles\", \"High Anxiety\", and \"Spaceballs\" are some of my favorite comedies that spoof a particular genre. \"Pandemonium\" is not up there with those films. Most of the scenes in this movie had me sitting there in stunned silence because the movie wasn\\'t all that funny. There are a few laughs in the film, but when you watch a comedy, you expect to laugh a lot more than a few times and that\\'s all this film has going for it. Geez, \"Scream\" had more laughs than this film and that was more of a horror film. How bizarre is that?<br /><br />*1/2 (out of four)'\n",
      "Label 0\n",
      "Review b\"David Mamet is a very interesting and a very un-equal director. His first movie 'House of Games' was the one I liked best, and it set a series of films with characters whose perspective of life changes as they get into complicated situations, and so does the perspective of the viewer.<br /><br />So is 'Homicide' which from the title tries to set the mind of the viewer to the usual crime drama. The principal characters are two cops, one Jewish and one Irish who deal with a racially charged area. The murder of an old Jewish shop owner who proves to be an ancient veteran of the Israeli Independence war triggers the Jewish identity in the mind and heart of the Jewish detective.<br /><br />This is were the flaws of the film are the more obvious. The process of awakening is theatrical and hard to believe, the group of Jewish militants is operatic, and the way the detective eventually walks to the final violent confrontation is pathetic. The end of the film itself is Mamet-like smart, but disappoints from a human emotional perspective.<br /><br />Joe Mantegna and William Macy give strong performances, but the flaws of the story are too evident to be easily compensated.\"\n",
      "Label 0\n",
      "Review b'Great documentary about the lives of NY firefighters during the worst terrorist attack of all time.. That reason alone is why this should be a must see collectors item.. What shocked me was not only the attacks, but the\"High Fat Diet\" and physical appearance of some of these firefighters. I think a lot of Doctors would agree with me that,in the physical shape they were in, some of these firefighters would NOT of made it to the 79th floor carrying over 60 lbs of gear. Having said that i now have a greater respect for firefighters and i realize becoming a firefighter is a life altering job. The French have a history of making great documentary\\'s and that is what this is, a Great Documentary.....'\n",
      "Label 1\n"
     ]
    }
   ],
   "source": [
    "# If you're new to tf.data, you can also iterate over the dataset and print out a few examples as follows.\n",
    "# The labels are 0 or 1. \n",
    "for text_batch, label_batch in raw_train_ds.take(1):\n",
    "    for i in range(3):\n",
    "        print(\"Review\", text_batch.numpy()[i])\n",
    "        print(\"Label\", label_batch.numpy()[i])"
   ]
  },
  {
   "cell_type": "code",
   "execution_count": 9,
   "id": "5f88d7a9-d784-4cda-8cb6-d52c0cfb1fd8",
   "metadata": {},
   "outputs": [
    {
     "name": "stdout",
     "output_type": "stream",
     "text": [
      "Label 0 corresponds to neg\n",
      "Label 1 corresponds to pos\n"
     ]
    }
   ],
   "source": [
    "# To see which of these correspond to positive and negative movie reviews, you can check the class_names property on the dataset.\n",
    "print(\"Label 0 corresponds to\", raw_train_ds.class_names[0])\n",
    "print(\"Label 1 corresponds to\", raw_train_ds.class_names[1])"
   ]
  },
  {
   "cell_type": "code",
   "execution_count": 10,
   "id": "f0bc7141-5c6a-4e18-b129-ec2d0d9e9534",
   "metadata": {},
   "outputs": [
    {
     "name": "stdout",
     "output_type": "stream",
     "text": [
      "Found 25000 files belonging to 2 classes.\n",
      "Using 5000 files for validation.\n"
     ]
    }
   ],
   "source": [
    "# Next, you will create a validation and test dataset. You will use the remaining 5,000 reviews from the training set for validation.\n",
    "# Validation.\n",
    "raw_val_ds = tf.keras.preprocessing.text_dataset_from_directory(\n",
    "    'aclImdb/train', \n",
    "    batch_size=batch_size, \n",
    "    validation_split=0.2, \n",
    "    subset='validation', \n",
    "    seed=seed)"
   ]
  },
  {
   "cell_type": "code",
   "execution_count": 11,
   "id": "72723320-59a0-4825-a633-8d8952f4f375",
   "metadata": {},
   "outputs": [
    {
     "name": "stdout",
     "output_type": "stream",
     "text": [
      "Found 25000 files belonging to 2 classes.\n"
     ]
    }
   ],
   "source": [
    "# Test.\n",
    "raw_test_ds = tf.keras.preprocessing.text_dataset_from_directory(\n",
    "    'aclImdb/test', \n",
    "    batch_size=batch_size)"
   ]
  },
  {
   "cell_type": "markdown",
   "id": "17fbb489-2db5-414e-93f7-4d99484baa6b",
   "metadata": {},
   "source": [
    "# Prepare the dataset for training."
   ]
  },
  {
   "cell_type": "code",
   "execution_count": 12,
   "id": "64608d65-81f8-4f12-9ada-10a699d2d523",
   "metadata": {},
   "outputs": [],
   "source": [
    "# Next, you will standardize, tokenize, and vectorize the data using the helpful preprocessing.TextVectorization layer.\n",
    "def custom_standardization(input_data):\n",
    "    lowercase = tf.strings.lower(input_data)\n",
    "    stripped_html = tf.strings.regex_replace(lowercase, '<br />', ' ')\n",
    "    return tf.strings.regex_replace(stripped_html,\n",
    "                                  '[%s]' % re.escape(string.punctuation),\n",
    "                                  '')"
   ]
  },
  {
   "cell_type": "code",
   "execution_count": 13,
   "id": "bf3abc9e-69f2-422a-884d-2c9b55427fc1",
   "metadata": {},
   "outputs": [],
   "source": [
    "# Next, you will create a TextVectorization layer.\n",
    "max_features = 10000\n",
    "sequence_length = 250\n",
    "\n",
    "vectorize_layer = TextVectorization(\n",
    "    standardize=custom_standardization,\n",
    "    max_tokens=max_features,\n",
    "    output_mode='int',\n",
    "    output_sequence_length=sequence_length)"
   ]
  },
  {
   "cell_type": "code",
   "execution_count": 14,
   "id": "6e13dce2-78cf-4c2a-b4d8-10fa39b93136",
   "metadata": {},
   "outputs": [],
   "source": [
    "# Next, you will call adapt to fit the state of the preprocessing layer to the dataset. This will cause the model to build an index of strings to integers.\n",
    "# Make a text-only dataset (without labels), then call adapt.\n",
    "train_text = raw_train_ds.map(lambda x, y: x)\n",
    "vectorize_layer.adapt(train_text)"
   ]
  },
  {
   "cell_type": "code",
   "execution_count": 15,
   "id": "c194bfd0-82be-4f1c-ba7d-f5e2251bdd43",
   "metadata": {},
   "outputs": [],
   "source": [
    "# Let's create a function to see the result of using this layer to preprocess some data.\n",
    "def vectorize_text(text, label):\n",
    "    text = tf.expand_dims(text, -1)\n",
    "    return vectorize_layer(text), label"
   ]
  },
  {
   "cell_type": "code",
   "execution_count": 16,
   "id": "56634813-c6c0-4c0f-bb9b-2c20b70cc70b",
   "metadata": {},
   "outputs": [
    {
     "name": "stdout",
     "output_type": "stream",
     "text": [
      "Review tf.Tensor(b'Great movie - especially the music - Etta James - \"At Last\". This speaks volumes when you have finally found that special someone.', shape=(), dtype=string)\n",
      "Label neg\n",
      "Vectorized review (<tf.Tensor: shape=(1, 250), dtype=int64, numpy=\n",
      "array([[  86,   17,  260,    2,  222,    1,  571,   31,  229,   11, 2418,\n",
      "           1,   51,   22,   25,  404,  251,   12,  306,  282,    0,    0,\n",
      "           0,    0,    0,    0,    0,    0,    0,    0,    0,    0,    0,\n",
      "           0,    0,    0,    0,    0,    0,    0,    0,    0,    0,    0,\n",
      "           0,    0,    0,    0,    0,    0,    0,    0,    0,    0,    0,\n",
      "           0,    0,    0,    0,    0,    0,    0,    0,    0,    0,    0,\n",
      "           0,    0,    0,    0,    0,    0,    0,    0,    0,    0,    0,\n",
      "           0,    0,    0,    0,    0,    0,    0,    0,    0,    0,    0,\n",
      "           0,    0,    0,    0,    0,    0,    0,    0,    0,    0,    0,\n",
      "           0,    0,    0,    0,    0,    0,    0,    0,    0,    0,    0,\n",
      "           0,    0,    0,    0,    0,    0,    0,    0,    0,    0,    0,\n",
      "           0,    0,    0,    0,    0,    0,    0,    0,    0,    0,    0,\n",
      "           0,    0,    0,    0,    0,    0,    0,    0,    0,    0,    0,\n",
      "           0,    0,    0,    0,    0,    0,    0,    0,    0,    0,    0,\n",
      "           0,    0,    0,    0,    0,    0,    0,    0,    0,    0,    0,\n",
      "           0,    0,    0,    0,    0,    0,    0,    0,    0,    0,    0,\n",
      "           0,    0,    0,    0,    0,    0,    0,    0,    0,    0,    0,\n",
      "           0,    0,    0,    0,    0,    0,    0,    0,    0,    0,    0,\n",
      "           0,    0,    0,    0,    0,    0,    0,    0,    0,    0,    0,\n",
      "           0,    0,    0,    0,    0,    0,    0,    0,    0,    0,    0,\n",
      "           0,    0,    0,    0,    0,    0,    0,    0,    0,    0,    0,\n",
      "           0,    0,    0,    0,    0,    0,    0,    0,    0,    0,    0,\n",
      "           0,    0,    0,    0,    0,    0,    0,    0]])>, <tf.Tensor: shape=(), dtype=int32, numpy=0>)\n"
     ]
    }
   ],
   "source": [
    "# Retrieve a batch (of 32 reviews and labels) from the dataset.\n",
    "text_batch, label_batch = next(iter(raw_train_ds))\n",
    "first_review, first_label = text_batch[0], label_batch[0]\n",
    "print(\"Review\", first_review)\n",
    "print(\"Label\", raw_train_ds.class_names[first_label])\n",
    "print(\"Vectorized review\", vectorize_text(first_review, first_label))"
   ]
  },
  {
   "cell_type": "code",
   "execution_count": 17,
   "id": "56ad4388-5123-45b6-91b9-8e948bdee266",
   "metadata": {},
   "outputs": [
    {
     "name": "stdout",
     "output_type": "stream",
     "text": [
      "1287 --->  silent\n",
      " 313 --->  night\n",
      "Vocabulary size: 10000\n"
     ]
    }
   ],
   "source": [
    "# As you can see above, each token has been replaced by an integer. You can lookup the token (string) that\n",
    "# each integer corresponds to by calling .get_vocabulary() on the layer.\n",
    "print(\"1287 ---> \",vectorize_layer.get_vocabulary()[1287])\n",
    "print(\" 313 ---> \",vectorize_layer.get_vocabulary()[313])\n",
    "print('Vocabulary size: {}'.format(len(vectorize_layer.get_vocabulary())))"
   ]
  },
  {
   "cell_type": "code",
   "execution_count": 18,
   "id": "5a25d206-5211-4501-bad6-d1b592b93472",
   "metadata": {},
   "outputs": [],
   "source": [
    "# You are nearly ready to train your model. As a final preprocessing step, you will apply\n",
    "# the TextVectorization layer you created earlier to the train, validation, and test dataset.\n",
    "train_ds = raw_train_ds.map(vectorize_text)\n",
    "val_ds = raw_val_ds.map(vectorize_text)\n",
    "test_ds = raw_test_ds.map(vectorize_text)"
   ]
  },
  {
   "cell_type": "markdown",
   "id": "9112ceac-26aa-4479-aec3-ad9a38d48352",
   "metadata": {},
   "source": [
    "# Configure the dataset for performance.\n",
    "These are two important methods you should use when loading data to make sure that I/O does not become blocking.\n",
    "- .cache() keeps data in memory after it's loaded off disk. This will ensure the dataset does not become a bottleneck while training your model. If your dataset is too large to fit into memory, you can also use this method to create a performant on-disk cache, which is more efficient to read than many small files.\n",
    "- .prefetch() overlaps data preprocessing and model execution while training."
   ]
  },
  {
   "cell_type": "code",
   "execution_count": 19,
   "id": "6d25b092-b1f4-45db-bc41-08a515b00270",
   "metadata": {},
   "outputs": [],
   "source": [
    "# Example.\n",
    "AUTOTUNE = tf.data.AUTOTUNE\n",
    "\n",
    "train_ds = train_ds.cache().prefetch(buffer_size=AUTOTUNE)\n",
    "val_ds = val_ds.cache().prefetch(buffer_size=AUTOTUNE)\n",
    "test_ds = test_ds.cache().prefetch(buffer_size=AUTOTUNE)"
   ]
  },
  {
   "cell_type": "markdown",
   "id": "b1f5a9d7-af60-46f3-bab5-6044d9c4c391",
   "metadata": {},
   "source": [
    "# Create the model."
   ]
  },
  {
   "cell_type": "code",
   "execution_count": 20,
   "id": "3d68620c-a9f5-4cbd-a4e5-4d52b2b9c7cd",
   "metadata": {},
   "outputs": [
    {
     "name": "stdout",
     "output_type": "stream",
     "text": [
      "Model: \"sequential\"\n",
      "_________________________________________________________________\n",
      "Layer (type)                 Output Shape              Param #   \n",
      "=================================================================\n",
      "embedding (Embedding)        (None, None, 16)          160016    \n",
      "_________________________________________________________________\n",
      "dropout (Dropout)            (None, None, 16)          0         \n",
      "_________________________________________________________________\n",
      "global_average_pooling1d (Gl (None, 16)                0         \n",
      "_________________________________________________________________\n",
      "dropout_1 (Dropout)          (None, 16)                0         \n",
      "_________________________________________________________________\n",
      "dense (Dense)                (None, 1)                 17        \n",
      "=================================================================\n",
      "Total params: 160,033\n",
      "Trainable params: 160,033\n",
      "Non-trainable params: 0\n",
      "_________________________________________________________________\n"
     ]
    }
   ],
   "source": [
    "# Create a neural network.\n",
    "embedding_dim = 16\n",
    "model = tf.keras.Sequential([\n",
    "  layers.Embedding(max_features + 1, embedding_dim),\n",
    "  layers.Dropout(0.2),\n",
    "  layers.GlobalAveragePooling1D(),\n",
    "  layers.Dropout(0.2),\n",
    "  layers.Dense(1)])\n",
    "\n",
    "model.summary()"
   ]
  },
  {
   "cell_type": "markdown",
   "id": "8d902f6f-ecae-4f51-b02d-c882a42c2f53",
   "metadata": {},
   "source": [
    "The layers are stacked sequentially to build the classifier:\n",
    "- The first layer is an Embedding layer. This layer takes the integer-encoded reviews and looks up an embedding vector for each word-index. These vectors are learned as the model trains. The vectors add a dimension to the output array. The resulting dimensions are: (batch, sequence, embedding). To learn more about embeddings, see the word embedding tutorial.\n",
    "- Next, a GlobalAveragePooling1D layer returns a fixed-length output vector for each example by averaging over the sequence dimension. This allows the model to handle input of variable length, in the simplest way possible.\n",
    "- This fixed-length output vector is piped through a fully-connected (Dense) layer with 16 hidden units.\n",
    "- The last layer is densely connected with a single output node."
   ]
  },
  {
   "cell_type": "markdown",
   "id": "6bd1a7a7-42c4-4b13-b83a-3ce357e66b26",
   "metadata": {},
   "source": [
    "# Loss function and optimizer."
   ]
  },
  {
   "cell_type": "code",
   "execution_count": 21,
   "id": "2660718b-4f02-4d73-beb9-cec411f56010",
   "metadata": {},
   "outputs": [],
   "source": [
    "# Configure the model to use an optimizer and a loss function.\n",
    "model.compile(loss=losses.BinaryCrossentropy(from_logits=True),\n",
    "              optimizer='adam',\n",
    "              metrics=tf.metrics.BinaryAccuracy(threshold=0.0))"
   ]
  },
  {
   "cell_type": "code",
   "execution_count": 22,
   "id": "47a9e2c2-4106-4cb2-b911-05bb39360dba",
   "metadata": {},
   "outputs": [
    {
     "name": "stdout",
     "output_type": "stream",
     "text": [
      "Epoch 1/10\n",
      "625/625 [==============================] - 12s 17ms/step - loss: 0.6672 - binary_accuracy: 0.6918 - val_loss: 0.6188 - val_binary_accuracy: 0.7670\n",
      "Epoch 2/10\n",
      "625/625 [==============================] - 5s 8ms/step - loss: 0.5515 - binary_accuracy: 0.7997 - val_loss: 0.5001 - val_binary_accuracy: 0.8222\n",
      "Epoch 3/10\n",
      "625/625 [==============================] - 4s 7ms/step - loss: 0.4456 - binary_accuracy: 0.8440 - val_loss: 0.4209 - val_binary_accuracy: 0.8466\n",
      "Epoch 4/10\n",
      "625/625 [==============================] - 4s 6ms/step - loss: 0.3792 - binary_accuracy: 0.8650 - val_loss: 0.3743 - val_binary_accuracy: 0.8594\n",
      "Epoch 5/10\n",
      "625/625 [==============================] - 4s 6ms/step - loss: 0.3363 - binary_accuracy: 0.8776 - val_loss: 0.3456 - val_binary_accuracy: 0.8660\n",
      "Epoch 6/10\n",
      "625/625 [==============================] - 3s 6ms/step - loss: 0.3062 - binary_accuracy: 0.8875 - val_loss: 0.3264 - val_binary_accuracy: 0.8712\n",
      "Epoch 7/10\n",
      "625/625 [==============================] - 7s 11ms/step - loss: 0.2821 - binary_accuracy: 0.8961 - val_loss: 0.3132 - val_binary_accuracy: 0.8734\n",
      "Epoch 8/10\n",
      "625/625 [==============================] - 6s 10ms/step - loss: 0.2637 - binary_accuracy: 0.9036 - val_loss: 0.3039 - val_binary_accuracy: 0.8760\n",
      "Epoch 9/10\n",
      "625/625 [==============================] - 4s 7ms/step - loss: 0.2467 - binary_accuracy: 0.9106 - val_loss: 0.2970 - val_binary_accuracy: 0.8784\n",
      "Epoch 10/10\n",
      "625/625 [==============================] - 4s 6ms/step - loss: 0.2336 - binary_accuracy: 0.9160 - val_loss: 0.2923 - val_binary_accuracy: 0.8790\n"
     ]
    }
   ],
   "source": [
    "# Train model.\n",
    "epochs = 10\n",
    "history = model.fit(\n",
    "    train_ds,\n",
    "    validation_data=val_ds,\n",
    "    epochs=epochs)"
   ]
  },
  {
   "cell_type": "code",
   "execution_count": 23,
   "id": "1df97f87-521c-456e-b47a-ba08f509b9a5",
   "metadata": {
    "tags": []
   },
   "outputs": [
    {
     "name": "stdout",
     "output_type": "stream",
     "text": [
      "782/782 [==============================] - 4s 5ms/step - loss: 0.3110 - binary_accuracy: 0.8729\n",
      "Loss:  0.311048299074173\n",
      "Accuracy:  0.8729199767112732\n"
     ]
    }
   ],
   "source": [
    "# Evaluate the model.\n",
    "loss, accuracy = model.evaluate(test_ds)\n",
    "\n",
    "print(\"Loss: \", loss)\n",
    "print(\"Accuracy: \", accuracy)"
   ]
  },
  {
   "cell_type": "code",
   "execution_count": 24,
   "id": "f2ebd0a1-0a11-4e58-9673-38351538f474",
   "metadata": {},
   "outputs": [
    {
     "data": {
      "text/plain": [
       "dict_keys(['loss', 'binary_accuracy', 'val_loss', 'val_binary_accuracy'])"
      ]
     },
     "execution_count": 24,
     "metadata": {},
     "output_type": "execute_result"
    }
   ],
   "source": [
    "# Create a plot of accuracy and loss over time.\n",
    "# model.fit() returns a History object that contains a dictionary with everything that happened during training.\n",
    "history_dict = history.history\n",
    "history_dict.keys()"
   ]
  },
  {
   "cell_type": "code",
   "execution_count": 25,
   "id": "f2377606-5506-4357-bbd0-038b67d19c56",
   "metadata": {},
   "outputs": [
    {
     "data": {
      "image/png": "[encoded data removed]",
      "text/plain": [
       "<Figure size 432x288 with 1 Axes>"
      ]
     },
     "metadata": {
      "needs_background": "light"
     },
     "output_type": "display_data"
    }
   ],
   "source": [
    "# There are four entries: one for each monitored metric during training and validation. \n",
    "# You can use these to plot the training and validation loss for comparison, as well as the training and validation accuracy.\n",
    "acc = history_dict['binary_accuracy']\n",
    "val_acc = history_dict['val_binary_accuracy']\n",
    "loss = history_dict['loss']\n",
    "val_loss = history_dict['val_loss']\n",
    "\n",
    "epochs = range(1, len(acc) + 1)\n",
    "\n",
    "# \"bo\" is for \"blue dot\"\n",
    "plt.plot(epochs, loss, 'bo', label='Training loss')\n",
    "# b is for \"solid blue line\"\n",
    "plt.plot(epochs, val_loss, 'b', label='Validation loss')\n",
    "plt.title('Training and validation loss')\n",
    "plt.xlabel('Epochs')\n",
    "plt.ylabel('Loss')\n",
    "plt.legend()\n",
    "\n",
    "plt.show()"
   ]
  },
  {
   "cell_type": "code",
   "execution_count": 26,
   "id": "e2296ef7-370d-4167-b00f-aaeea6b45091",
   "metadata": {},
   "outputs": [
    {
     "data": {
      "image/png": "[encoded data removed]",
      "text/plain": [
       "<Figure size 432x288 with 1 Axes>"
      ]
     },
     "metadata": {
      "needs_background": "light"
     },
     "output_type": "display_data"
    }
   ],
   "source": [
    "plt.plot(epochs, acc, 'bo', label='Training acc')\n",
    "plt.plot(epochs, val_acc, 'b', label='Validation acc')\n",
    "plt.title('Training and validation accuracy')\n",
    "plt.xlabel('Epochs')\n",
    "plt.ylabel('Accuracy')\n",
    "plt.legend(loc='lower right')\n",
    "\n",
    "plt.show()"
   ]
  },
  {
   "cell_type": "markdown",
   "id": "f674a285-370c-4cf3-8b57-948dc79a67cf",
   "metadata": {},
   "source": [
    "# Export the model."
   ]
  },
  {
   "cell_type": "markdown",
   "id": "0d15a213-7e18-4a83-8d9a-27eb1eb2934c",
   "metadata": {},
   "source": [
    "In the code above, you applied the TextVectorization layer to the dataset before feeding text to the model. If you want to make your model capable of processing raw strings (for example, to simplify deploying it), you can include the TextVectorization layer inside your model. To do so, you can create a new model using the weights you just trained."
   ]
  },
  {
   "cell_type": "code",
   "execution_count": 27,
   "id": "b45adfaf-d3b0-463e-beb9-8fb6b177dea1",
   "metadata": {},
   "outputs": [
    {
     "name": "stdout",
     "output_type": "stream",
     "text": [
      "782/782 [==============================] - 4s 4ms/step - loss: 0.3110 - accuracy: 0.8729\n",
      "0.8729199767112732\n"
     ]
    }
   ],
   "source": [
    "export_model = tf.keras.Sequential([\n",
    "  vectorize_layer,\n",
    "  model,\n",
    "  layers.Activation('sigmoid')\n",
    "])\n",
    "\n",
    "export_model.compile(\n",
    "    loss=losses.BinaryCrossentropy(from_logits=False), optimizer=\"adam\", metrics=['accuracy']\n",
    ")\n",
    "\n",
    "# Test it with `raw_test_ds`, which yields raw strings\n",
    "loss, accuracy = export_model.evaluate(raw_test_ds)\n",
    "print(accuracy)"
   ]
  },
  {
   "cell_type": "code",
   "execution_count": 28,
   "id": "f08c1fd7-c986-427d-bb57-65cd02408474",
   "metadata": {},
   "outputs": [
    {
     "data": {
      "text/plain": [
       "array([[0.6074517 ],\n",
       "       [0.4291129 ],\n",
       "       [0.34507245]], dtype=float32)"
      ]
     },
     "execution_count": 28,
     "metadata": {},
     "output_type": "execute_result"
    }
   ],
   "source": [
    "# Inference on new data.\n",
    "examples = [\n",
    "  \"The movie was great!\",\n",
    "  \"The movie was okay.\",\n",
    "  \"The movie was terrible...\"\n",
    "]\n",
    "\n",
    "model_result = export_model.predict(examples)\n",
    "model_result"
   ]
  },
  {
   "cell_type": "code",
   "execution_count": 29,
   "id": "acaeb069-8005-40a9-8f61-62f49bc74e97",
   "metadata": {},
   "outputs": [
    {
     "name": "stderr",
     "output_type": "stream",
     "text": [
      "2021-08-12 03:34:24.605400: W tensorflow/python/util/util.cc:348] Sets are not currently considered sequences, but this may change in the future, so consider avoiding using them.\n"
     ]
    },
    {
     "name": "stdout",
     "output_type": "stream",
     "text": [
      "INFO:tensorflow:Assets written to: model/assets\n"
     ]
    }
   ],
   "source": [
    "# Save model as .pb\n",
    "export_model.save(\"model\")"
   ]
  },
  {
   "cell_type": "code",
   "execution_count": 30,
   "id": "40fe99f3-7a67-4980-9789-c923abadb6fd",
   "metadata": {},
   "outputs": [
    {
     "name": "stderr",
     "output_type": "stream",
     "text": [
      "2021-08-12 03:34:27.004428: W tensorflow/compiler/mlir/lite/python/tf_tfl_flatbuffer_helpers.cc:351] Ignored output_format.\n",
      "2021-08-12 03:34:27.004455: W tensorflow/compiler/mlir/lite/python/tf_tfl_flatbuffer_helpers.cc:354] Ignored drop_control_dependency.\n",
      "2021-08-12 03:34:27.004462: W tensorflow/compiler/mlir/lite/python/tf_tfl_flatbuffer_helpers.cc:360] Ignored change_concat_input_ranges.\n",
      "2021-08-12 03:34:27.007005: I tensorflow/cc/saved_model/reader.cc:38] Reading SavedModel from: model\n",
      "2021-08-12 03:34:27.013552: I tensorflow/cc/saved_model/reader.cc:90] Reading meta graph with tags { serve }\n",
      "2021-08-12 03:34:27.013592: I tensorflow/cc/saved_model/reader.cc:132] Reading SavedModel debug info (if present) from: model\n",
      "2021-08-12 03:34:27.045907: I tensorflow/cc/saved_model/loader.cc:211] Restoring SavedModel bundle.\n",
      "2021-08-12 03:34:27.125621: I tensorflow/cc/saved_model/loader.cc:195] Running initialization op on SavedModel bundle at path: model\n",
      "2021-08-12 03:34:27.290598: I tensorflow/cc/saved_model/loader.cc:283] SavedModel load for tags { serve }; Status: success: OK. Took 283599 microseconds.\n",
      "2021-08-12 03:34:27.441494: I tensorflow/compiler/mlir/tensorflow/utils/dump_mlir_util.cc:210] disabling MLIR crash reproducer, set env var `MLIR_CRASH_REPRODUCER_DIRECTORY` to enable.\n",
      "2021-08-12 03:34:27.671904: W tensorflow/compiler/mlir/lite/flatbuffer_export.cc:1838] TFLit"
     ]
    },
    {
     "data": {
      "text/plain": [
       "357472"
      ]
     },
     "execution_count": 30,
     "metadata": {},
     "output_type": "execute_result"
    }
   ],
   "source": [
    "# Get TFLite from a pb model. (https://github.com/tensorflow/models/issues/8872)\n",
    "converter = tf.lite.TFLiteConverter.from_saved_model(\"model\")\n",
    "converter.optimizations = [tf.lite.Optimize.DEFAULT]\n",
    "converter.experimental_new_converter = True\n",
    "converter.target_spec.supported_ops = [tf.lite.OpsSet.TFLITE_BUILTINS, tf.lite.OpsSet.SELECT_TF_OPS]\n",
    "tflite_model = converter.convert()\n",
    "open(\"imdb.tflite\",\"wb\").write(tflite_model)"
   ]
  },
  {
   "cell_type": "code",
   "execution_count": 31,
   "id": "c2edf848-a6c6-4ba8-873e-f7f1f4ab719a",
   "metadata": {},
   "outputs": [],
   "source": [
    "# Preload model.\n",
    "from tensorflow import (\n",
    "    convert_to_tensor,\n",
    "    lite,\n",
    ")\n",
    "import numpy as np\n",
    "model_path=\"imdb.tflite\"\n",
    "interpreter = lite.Interpreter(model_path=str(model_path), num_threads=4)\n",
    "interpreter.allocate_tensors()\n",
    "input_details = interpreter.get_input_details()\n",
    "output_details = interpreter.get_output_details()"
   ]
  },
  {
   "cell_type": "code",
   "execution_count": 32,
   "id": "a7789c06-c53e-4308-a5e5-10262d651cad",
   "metadata": {},
   "outputs": [
    {
     "data": {
      "text/plain": [
       "{'The movie was great!': 0.6269119,\n",
       " 'The movie was okay.': 0.44955996,\n",
       " 'The movie was terrible...': 0.36384863}"
      ]
     },
     "execution_count": 32,
     "metadata": {},
     "output_type": "execute_result"
    }
   ],
   "source": [
    "# TFLite prediction.\n",
    "result = {}\n",
    "for ex in examples:\n",
    "    text = np.expand_dims(np.array(ex), axis=0)\n",
    "    interpreter.set_tensor(input_details[0]['index'], text)\n",
    "    interpreter.invoke()\n",
    "    prediction = interpreter.get_tensor(output_details[0]['index'])\n",
    "    result.update({ex:prediction[0][0]})\n",
    "result"
   ]
  },
  {
   "cell_type": "code",
   "execution_count": 33,
   "id": "45c39638-cf59-40ea-98f8-071c9e26a17b",
   "metadata": {},
   "outputs": [
    {
     "name": "stdout",
     "output_type": "stream",
     "text": [
      "{'The movie was great!': 0.6269119, 'The movie was okay.': 0.44955996, 'The movie was terrible...': 0.36384863}\n",
      "[[0.6074517 ]\n",
      " [0.4291129 ]\n",
      " [0.34507245]]\n"
     ]
    },
    {
     "name": "stderr",
     "output_type": "stream",
     "text": [
      "e interpreter needs to link Flex delegate in order to run the model since it contains the following flex op(s):\n",
      "Flex ops: FlexBincount, FlexRaggedTensorToTensor, FlexStaticRegexReplace, FlexStringLower, FlexStringSplitV2\n",
      "Details:\n",
      "\ttf.Bincount(tensor<?xi32>, tensor<i32>, tensor<0xi64>) -> (tensor<?xi64>) : {device = \"\"}\n",
      "\ttf.RaggedTensorToTensor(tensor<2xi64>, tensor<*xi64>, tensor<i64>, tensor<?xi64>) -> (tensor<?x250xi64>) : {T = i64, Tindex = i64, Tshape = i64, device = \"\", num_row_partition_tensors = 1 : i64, row_partition_types = [\"ROW_SPLITS\"]}\n",
      "\ttf.StaticRegexReplace(tensor<?x!tf.string>) -> (tensor<?x!tf.string>) : {device = \"\", pattern = \"<br />\", replace_global = true, rewrite = \" \"}\n",
      "\ttf.StaticRegexReplace(tensor<?x!tf.string>) -> (tensor<?x!tf.string>) : {device = \"\", pattern = \"[!\\22\\\\#\\\\$%\\\\&'\\\\(\\\\)\\\\*\\\\+,\\\\-\\\\./:;<=>\\\\?@\\\\[\\\\\\\\\\\\]\\\\^_`\\\\{\\\\|\\\\}\\\\~]\", replace_global = true, rewrite = \"\"}\n",
      "\ttf.StringLower(tensor<?x!tf.string>) -> (tensor<?x!tf.string>) : {device = \"\", encoding = \"\"}\n",
      "\ttf.StringSplitV2(tensor<?x!tf.string>, tensor<!tf.string>) -> (tensor<?x2xi64>, tensor<?x!tf.string>, tensor<2xi64>) : {device = \"\", maxsplit = -1 : i64}\n",
      "2021-08-12 03:34:27.677835: I tensorflow/lite/tools/optimize/quantize_weights.cc:225] Skipping quantization of tensor sequential_1/sequential/dense/MatMul because it has fewer than 1024 elements (16).\n",
      "INFO: Created TensorFlow Lite delegate for select TF ops.\n",
      "INFO: TfLiteFlexDelegate delegate: 6 nodes delegated out of 33 nodes with 3 partitions.\n",
      "\n",
      "INFO: TfLiteFlexDelegate delegate: 0 nodes delegated out of 2 nodes with 0 partitions.\n",
      "\n"
     ]
    }
   ],
   "source": [
    "print(result)\n",
    "print(model_result)"
   ]
  },
  {
   "cell_type": "code",
   "execution_count": 80,
   "id": "f0cfe431-9dd1-47f0-9d2b-caeedac81071",
   "metadata": {},
   "outputs": [],
   "source": [
    "new_example = \"this film was just brilliant casting location scenery story direction everyone's really suited the part they played and you could just imagine being there robert # is an amazing actor and now the same being director # father came from the same scottish island as myself so i loved the fact there was a real connection with this film the witty remarks throughout the film were great it was just brilliant so much that i bought the film as soon as it was released for # and would recommend it to everyone to watch and the fly fishing was amazing really cried at the end it was so sad and you know what they say if you cry at a film it must have been good and this definitely was also # to the two little boy's that played the # of norman and paul they were just brilliant children are often left out of the # list i think because the stars that play them all grown up are such a big profile for the whole film but these children are amazing and should be praised for what they have done don't you think the whole story was so lovely because it was true and was someone's life after all that was shared with us all"
   ]
  },
  {
   "cell_type": "code",
   "execution_count": 81,
   "id": "56f83297-2ca0-4849-8196-1b90a5b8e710",
   "metadata": {},
   "outputs": [],
   "source": [
    "model_result = export_model.predict([new_example])"
   ]
  },
  {
   "cell_type": "code",
   "execution_count": 82,
   "id": "23030fcd-41a7-48b6-a1d8-5887e39189e4",
   "metadata": {},
   "outputs": [
    {
     "data": {
      "text/plain": [
       "array([[0.9916433]], dtype=float32)"
      ]
     },
     "execution_count": 82,
     "metadata": {},
     "output_type": "execute_result"
    }
   ],
   "source": [
    "model_result"
   ]
  },
  {
   "cell_type": "code",
   "execution_count": 79,
   "id": "335cfdb6-d722-445e-b1e5-d36f1c662c35",
   "metadata": {},
   "outputs": [
    {
     "data": {
      "text/plain": [
       "array([[0.994699]], dtype=float32)"
      ]
     },
     "execution_count": 79,
     "metadata": {},
     "output_type": "execute_result"
    }
   ],
   "source": [
    "text = np.expand_dims(np.array(new_example), axis=0)\n",
    "interpreter.set_tensor(input_details[0]['index'], text)\n",
    "interpreter.invoke()\n",
    "prediction = interpreter.get_tensor(output_details[0]['index'])\n",
    "prediction"
   ]
  }
 ],
 "metadata": {
  "kernelspec": {
   "display_name": "djangotflite",
   "language": "python",
   "name": "djangotflite"
  },
  "language_info": {
   "codemirror_mode": {
    "name": "ipython",
    "version": 3
   },
   "file_extension": ".py",
   "mimetype": "text/x-python",
   "name": "python",
   "nbconvert_exporter": "python",
   "pygments_lexer": "ipython3",
   "version": "3.9.6"
  }
 },
 "nbformat": 4,
 "nbformat_minor": 5
}
