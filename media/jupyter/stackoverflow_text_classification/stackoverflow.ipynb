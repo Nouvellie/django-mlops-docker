{
 "cells": [
  {
   "cell_type": "markdown",
   "id": "e43c2fa2-41f6-4517-8955-e16ccbcddb92",
   "metadata": {},
   "source": [
    "# Multi-class classification on Stack Overflow questions."
   ]
  },
  {
   "cell_type": "code",
   "execution_count": 95,
   "id": "1e88bb70-c258-40bf-9c2c-7b9e86aea4d3",
   "metadata": {},
   "outputs": [
    {
     "name": "stdout",
     "output_type": "stream",
     "text": [
      "2.6.0\n"
     ]
    }
   ],
   "source": [
    "# https://www.tensorflow.org/tutorials/keras/text_classification\n",
    "\n",
    "import matplotlib.pyplot as plt\n",
    "import os\n",
    "import re\n",
    "import shutil\n",
    "import string\n",
    "import tensorflow as tf\n",
    "\n",
    "from pathlib import Path\n",
    "from tensorflow.keras import layers\n",
    "from tensorflow.keras import losses\n",
    "from tensorflow.keras import preprocessing\n",
    "from tensorflow.keras.layers.experimental.preprocessing import TextVectorization\n",
    "print(tf.__version__)"
   ]
  },
  {
   "cell_type": "code",
   "execution_count": 2,
   "id": "44b2b376-942c-4bff-8bf6-d465e1189e64",
   "metadata": {},
   "outputs": [
    {
     "name": "stdout",
     "output_type": "stream",
     "text": [
      "Downloading data from https://storage.googleapis.com/download.tensorflow.org/data/stack_overflow_16k.tar.gz\n",
      "Downloading data from http://storage.googleapis.com/download.tensorflow.org/data/stack_overflow_16k.tar.gz\n",
      "6053888/6053168 [==============================] - 0s 0us/step\n",
      "6062080/6053168 [==============================] - 0s 0us/step\n"
     ]
    }
   ],
   "source": [
    "# Sentiment analysis. (Download and extract the dataset)\n",
    "\"\"\"This notebook trains a sentiment analysis model to classify movie reviews as positive or negative, \n",
    "based on the text of the review\"\"\"\n",
    "\n",
    "https_url = \"https://storage.googleapis.com/download.tensorflow.org/data/stack_overflow_16k.tar.gz\"\n",
    "http_url = \"http://storage.googleapis.com/download.tensorflow.org/data/stack_overflow_16k.tar.gz\"\n",
    "try:\n",
    "    dataset = tf.keras.utils.get_file(\"stack_overflow_16k.tar.gz\", https_url,\n",
    "                                        untar=True, cache_dir='.',\n",
    "                                        cache_subdir='')\n",
    "except:\n",
    "    dataset = tf.keras.utils.get_file(\"stack_overflow_16k.tar.gz\", http_url,\n",
    "                                    untar=True, cache_dir='.',\n",
    "                                    cache_subdir='')\n",
    "dataset_dir = Path(dataset).parent"
   ]
  },
  {
   "cell_type": "code",
   "execution_count": 3,
   "id": "f61a9f47-5bcc-48d5-889a-efc1f09072e8",
   "metadata": {},
   "outputs": [],
   "source": [
    "data_url = 'http://storage.googleapis.com/download.tensorflow.org/data/stack_overflow_16k.tar.gz'\n",
    "dataset = tf.keras.utils.get_file(\n",
    "  'stack_overflow_16k.tar.gz',\n",
    "  data_url,\n",
    "  untar=True,  \n",
    "  cache_dir='.',\n",
    "  cache_subdir='.')\n"
   ]
  },
  {
   "cell_type": "code",
   "execution_count": 4,
   "id": "f3096976-0b7b-4753-8153-095d25cc14c7",
   "metadata": {},
   "outputs": [
    {
     "data": {
      "text/plain": [
       "['test',\n",
       " 'stack_overflow_16k.tar.gz',\n",
       " 'README.md',\n",
       " 'train',\n",
       " '.ipynb_checkpoints',\n",
       " 'stackoverflow.ipynb']"
      ]
     },
     "execution_count": 4,
     "metadata": {},
     "output_type": "execute_result"
    }
   ],
   "source": [
    "# Directory structure.\n",
    "os.listdir(dataset_dir)"
   ]
  },
  {
   "cell_type": "code",
   "execution_count": 5,
   "id": "4db3f1af-c825-4ff8-a976-d53a9d255d1b",
   "metadata": {},
   "outputs": [
    {
     "data": {
      "text/plain": [
       "'stackoverflow/train'"
      ]
     },
     "execution_count": 5,
     "metadata": {},
     "output_type": "execute_result"
    }
   ],
   "source": [
    "# Move train/test folder.\n",
    "os.mkdir(\"stackoverflow\")\n",
    "shutil.move(\"test\", \"stackoverflow/test\")\n",
    "shutil.move(\"train\", \"stackoverflow/train\")"
   ]
  },
  {
   "cell_type": "code",
   "execution_count": 96,
   "id": "db57d12f-3a88-45dd-abea-c069586d1c0e",
   "metadata": {},
   "outputs": [
    {
     "data": {
      "text/plain": [
       "['python', 'java', 'csharp', 'javascript']"
      ]
     },
     "execution_count": 96,
     "metadata": {},
     "output_type": "execute_result"
    }
   ],
   "source": [
    "# Train dir.\n",
    "train_dir = os.path.join(dataset_dir, 'stackoverflow/train')\n",
    "os.listdir(train_dir)"
   ]
  },
  {
   "cell_type": "code",
   "execution_count": 8,
   "id": "2533fefa-b2d5-4ae2-ad3f-8627b7b67604",
   "metadata": {},
   "outputs": [
    {
     "name": "stdout",
     "output_type": "stream",
     "text": [
      "\"else command not running correctly? (blank 3 beginner) i'm working on a combo menu for my first blank program. i've gotten everything to work properly up to this point. i want the program to exit if the user's input isn't equal to the accepted answers. i've tried a few different methods to get this working, but it still just runs like i answered \"\"yes\"\" or \"\"yes\"\". any help? thanks a ton. ..here is my code: ..def p(): #prints new line quiokly.    print()..def error(): #restarts the main.    question = input(\"\"you have entered an invalid option. would you like to try your order again? n\"\").    if question in (\"\"yes\"\",\"\"yes\"\",\"\"yes\"\"):.        main().    else:.        exit..def main(): #main block of code.    cost = 0 #total cost variable.    if cost == 0:.        print(\"\"what type of sandwhich would you like? refer to the cost and type of sandwhich below.\"\").        p().        print(\"\"chicken sandwhich = $5.25\"\").        p().        print(\"\"tofu sandwhich = $5.75\"\").        p().        print(\"\"beef sandwhich = $6.25\"\") #initial questions.        x = input().        if x == (\"\"beef\"\") or x == (\"\"beef\"\"):.            cost += 6.25.            print(\"\"you have selected beef. your total is so far is $6.25.\"\").        elif x == (\"\"chicken\"\") or x == (\"\"chicken\"\"):.            cost += 5.25.            print(\"\"you have selected chicken. your total is so far is $5.25.\"\").        elif x == (\"\"tofu\"\") or x == (\"\"tofu\"\"):.            cost += 5.75.            print(\"\"you have selected tofu. your total is so far is $5.75.\"\").        if x not in (\"\"beef\"\" , \"\"beef\"\" , \"\"tofu\"\" , \"\"tofu\"\" , \"\"chicken\"\" , \"\"chicken\"\"): #checks for valid resposne.            error()...        print(\"\"would you like to add a drink to your meal?\"\").        p().        yzz = input().        if yzz == (\"\"yes\"\") or (\"\"yes\"\"):.            p().            print(\"\"okay, would you like small, medium, or large? refer to the prices below.\"\").            print(cost).            p().            print(\"\"small - $1.00\"\").            p().            print(\"\"medium - $1.75\"\").            p().            print(\"\"large - $2.25\"\").            p().            yzzz = input().            if yzzz == (\"\"small\"\") or yzzz == (\"\"small\"\"):.                cost += 1.                print(\"\"you have selected a small drink. your total is so far is \"\" + \"\"$%.2f\"\" %cost + \"\".\"\").            elif yzzz == (\"\"medium\"\") or yzzz == (\"\"medium\"\"):.                cost += 1.75    .                print(\"\"you have selected a medium drink. your total is so far is \"\" + \"\"$%.2f\"\" %cost + \"\".\"\").            elif yzzz == (\"\"large\"\") or yzzz == (\"\"large\"\"):.                cost += 2.25.                print(\"\"you have selected a large drink. your total is so far is \"\" + \"\"$%.2f\"\" %cost + \"\".\"\").            if yzzz not in (\"\"small\"\" , \"\"small\"\" , \"\"medium\"\" , \"\"medium\"\" , \"\"large\"\" , \"\"large\"\"): #checks for valid response.                error().    elif yzz not in (\"\"yes\"\",\"\"yes\"\"):.        exit.....#main code starts here!.main()\"\n",
      "\n"
     ]
    }
   ],
   "source": [
    "# Directories contain many text files, each of which is a single stackoverflow programming question.\n",
    "sample_file = os.path.join(train_dir, 'python/999.txt')\n",
    "with open(sample_file) as f:\n",
    "    print(f.read())"
   ]
  },
  {
   "cell_type": "code",
   "execution_count": 10,
   "id": "857a7b03-84ba-4b22-bb23-e0afb331a2f8",
   "metadata": {},
   "outputs": [
    {
     "name": "stdout",
     "output_type": "stream",
     "text": [
      "Found 8000 files belonging to 4 classes.\n",
      "Using 6400 files for training.\n"
     ]
    },
    {
     "name": "stderr",
     "output_type": "stream",
     "text": [
      "2021-08-12 20:06:50.774283: I tensorflow/core/platform/cpu_feature_guard.cc:142] This TensorFlow binary is optimized with oneAPI Deep Neural Network Library (oneDNN) to use the following CPU instructions in performance-critical operations:  AVX2 FMA\n",
      "To enable them in other operations, rebuild TensorFlow with the appropriate compiler flags.\n"
     ]
    }
   ],
   "source": [
    "# Create a validation set. (80:20)\n",
    "batch_size = 32\n",
    "seed = 42\n",
    "\n",
    "raw_train_ds = tf.keras.preprocessing.text_dataset_from_directory(\n",
    "    'stackoverflow/train', \n",
    "    batch_size=batch_size, \n",
    "    validation_split=0.2, \n",
    "    subset='training', \n",
    "    seed=seed)"
   ]
  },
  {
   "cell_type": "code",
   "execution_count": 12,
   "id": "7d183dd2-9aaa-4ed9-84b1-7625cd406f99",
   "metadata": {},
   "outputs": [
    {
     "name": "stdout",
     "output_type": "stream",
     "text": [
      "Review b'\"blank8 why is my solution faster than the neat solution? (hackerrank chocolate feast) edit: simplified my solution..edit: removed opinion based secondary question...background: atarted learning blank a week or two ago using hackerranks problems as exercises and stackoverflow search + google as my teacher, i\\'ve had some limited experience learning other languages...i did the exercise my own \"\"noobish learner way\"\" which i can\\'t help but feel is a \"\"botched job\"\" when i see \"\"neat &amp; short\"\" solutions...however, when submitting both solutions one after another a couple of times i found the \"\"neat\"\" solution was quite a bit slower. ..i vaguely remember something about % operations being costly, is mine faster because of no % operations or is there more to it than just that?..exercise: https://www.hackerrank.com/challenges/chocolate-feast..neat solution from discussion:..import blank.io.*;.import blank.util.*;..public class solution {.    static int cc; .    public static void main(string[] args) {.        scanner in = new scanner(system.in);.        int t,n,c,m,r;.            t = in.nextint();.            while(t--&gt;0){.             n = in.nextint();.            c = in.nextint();.             m = in.nextint();.                r=n/c;.                cc=r;..                    while(r&gt;=m){.                        cc=cc+r/m;.                        r=r%m+r/m;.                    }..                system.out.println(cc); .            }..    }.}...my solution:..import blank.io.*;.import blank.util.*;..public class solution {..    public static void main(string[] args) {..        scanner sc = new scanner(system.in);.        int t = integer.parseint(sc.nextline());    //t = number of test cases.        int[][] tc = readinput(sc, t);              //tc[t][0] = money. tc[t][1] = price. tc[t][2] = wrappers per free bar..        for (int i = 0; i&lt;t; i++){                  //loop for all test cases.            int choc = calcchoc(tc,i);              //work out how much choc can be bought.            system.out.println(choc);               //print result for the test case.        }.    }.    //calculate how much choc he can buy with m $ at p price with w wrappers needed for a free bar.    public static int calcchoc(int[][] tc,int i){..        int m = tc[i][0];       //money he has.        int p = tc[i][1];       //price of choc.        int w = tc[i][2];       //wrappers per free bar..        int bars = m/p;         //how many bars he can buy initially.        int wrappers = bars;    //each bar is a wrapper from initial purpose..        //loop to turn in all wrappers while it is possible to do so.        while (w&lt;=wrappers){..            int barsfromturnin = wrappers/w;                //bars from turning in current wrappers..            bars = bars + barsfromturnin;                   //new bar count.            wrappers = wrappers - (barsfromturnin * (w-1)); //wrapper count reduced by amount of wrappers turned in -1 wrapper per bar recieved from turn in...            if (w==1){ //break out of infinite loop when you get 1 bar for 1 wrapper!.                system.out.print(\"\"infinite bars, exiting infinite loop at bars = \"\");.                break;.            }.        }.        return bars;.    }.    //read input for each test case and make 2d array of the info.    public static int[][] readinput(scanner sc, int t){..        int[][] input = new int[t][3];..        for (int i = 0; i&lt;t; i++){.            string[] inputline = sc.nextline().split(\"\" \"\");..            input[i][0] = integer.parseint(inputline[0]);.            input[i][1] = integer.parseint(inputline[1]);.            input[i][2] = integer.parseint(inputline[2]);.        }.        return input;.    }.}\"\\n'\n",
      "Label 1\n",
      "\n",
      "\n",
      "Review b'\"element.removeeventlistener(\\'mousedown\\', externalfunction, usecapture); is not working i need to first remove the event listener before dynamically adding more elements which also need the same event listener. i am using an external function name (not an anonymous function) and specifying the same usecapture value in both the add and remove. ..the function is nested within another function. &lt; suspected problem was the problem..you can see the problem by clicking the first \"\"add button\"\"  more than once. the first click adds one more button, the second click adds two more, the third click adds four more, etc. each click should only add one more. i guess the return value of removeeventlistener is always undefined so i can only tell that removal did not work from the duplicate events.....var app = function() {. console.log(\\'app\\');. . var setup = function() {.  console.log(\\'setup\\');. .  var addbutton = function(e) {.   console.log(e);.   var button = e.target;.   var newbutton = document.createelement(\\'button\\');.   newbutton.innertext = \\'add another button\\';.   button.parentnode.appendchild( newbutton );.   setup();.  }. .  var buttons = document.queryselectorall(\\'button\\');.  .  for(var i=0; i&lt;buttons.length; i++) {.   var button = buttons[i];.   button.removeeventlistener(\\'mousedown\\', addbutton, false);.   button.addeventlistener(\\'mousedown\\', addbutton, false);.  }.  . }. setup();.}.app();.&lt;div&gt;. &lt;button&gt;add button&lt;/button&gt;.&lt;/div&gt;\"\\n'\n",
      "Label 2\n",
      "\n",
      "\n",
      "Review b'\"downloading a file using blank i have some code to download a text file from a website. when the requested file does not exist, my application downloads a text file which has html content. i need to filter this html content (should not download a text file with html content if the requested file does not exist) and need to download only text files which has the correct content. below is my code...string filepath = @\"\"c:textfiles\"\" + filename + string.format(\"\"{0:00000}\"\", i) + \"\".txt\"\";.directory.createdirectory(path.getdirectoryname(filepath));.//messagebox.show(filepath);..using (filestream download = new filestream(filepath, filemode.create)).{.    stream stream = clientx.getresponse().getresponsestream();.    while ((read = stream.read(buffer, 0, buffer.length)) != 0).    {..        download.write(buffer, 0, read);..    }.}...please advice\"\\n'\n",
      "Label 0\n",
      "\n",
      "\n"
     ]
    }
   ],
   "source": [
    "# If you're new to tf.data, you can also iterate over the dataset and print out a few examples as follows.\n",
    "# The labels are 0 or 1. \n",
    "for text_batch, label_batch in raw_train_ds.take(1):\n",
    "    for i in range(3):\n",
    "        print(\"Review\", text_batch.numpy()[i])\n",
    "        print(\"Label\", label_batch.numpy()[i])\n",
    "        print(\"\\n\")"
   ]
  },
  {
   "cell_type": "code",
   "execution_count": 16,
   "id": "47ea60c1-36bb-4d91-8100-fe9f6a927e48",
   "metadata": {},
   "outputs": [
    {
     "name": "stdout",
     "output_type": "stream",
     "text": [
      "Label 0 corresponds to csharp\n",
      "Label 1 corresponds to java\n",
      "Label 2 corresponds to javascript\n",
      "Label 3 corresponds to python\n"
     ]
    }
   ],
   "source": [
    "# To see which of these correspond to positive and negative movie reviews, \n",
    "# you can check the class_names property on the dataset.\n",
    "print(\"Label 0 corresponds to\", raw_train_ds.class_names[0])\n",
    "print(\"Label 1 corresponds to\", raw_train_ds.class_names[1])\n",
    "print(\"Label 2 corresponds to\", raw_train_ds.class_names[2])\n",
    "print(\"Label 3 corresponds to\", raw_train_ds.class_names[3])"
   ]
  },
  {
   "cell_type": "code",
   "execution_count": 18,
   "id": "5574a0bd-c07b-4093-a315-80acc1039e7f",
   "metadata": {},
   "outputs": [
    {
     "name": "stdout",
     "output_type": "stream",
     "text": [
      "Found 8000 files belonging to 4 classes.\n",
      "Using 1600 files for validation.\n"
     ]
    }
   ],
   "source": [
    "# Next, you will create a validation and test dataset. You will use the remaining 5,000 \n",
    "# reviews from the training set for validation.\n",
    "# Validation.\n",
    "raw_val_ds = tf.keras.preprocessing.text_dataset_from_directory(\n",
    "    'stackoverflow/train', \n",
    "    batch_size=batch_size, \n",
    "    validation_split=0.2, \n",
    "    subset='validation', \n",
    "    seed=seed)"
   ]
  },
  {
   "cell_type": "code",
   "execution_count": 19,
   "id": "1c33666b-7e28-4e39-9995-939697188505",
   "metadata": {},
   "outputs": [
    {
     "name": "stdout",
     "output_type": "stream",
     "text": [
      "Found 8000 files belonging to 4 classes.\n"
     ]
    }
   ],
   "source": [
    "# Test.\n",
    "raw_test_ds = tf.keras.preprocessing.text_dataset_from_directory(\n",
    "    'stackoverflow/test', \n",
    "    batch_size=batch_size)"
   ]
  },
  {
   "cell_type": "code",
   "execution_count": 20,
   "id": "f875b446-91fd-4879-9a52-6faf467d78eb",
   "metadata": {},
   "outputs": [],
   "source": [
    "# Next, you will standardize, tokenize, and vectorize the data using the helpful preprocessing.\n",
    "# TextVectorization layer.\n",
    "def custom_standardization(input_data):\n",
    "    lowercase = tf.strings.lower(input_data)\n",
    "    stripped_html = tf.strings.regex_replace(lowercase, '<br />', ' ')\n",
    "    return tf.strings.regex_replace(stripped_html,\n",
    "                                  '[%s]' % re.escape(string.punctuation),\n",
    "                                  '')"
   ]
  },
  {
   "cell_type": "code",
   "execution_count": 21,
   "id": "a9f03b42-f669-473f-bcf2-14e2ff4906a2",
   "metadata": {},
   "outputs": [],
   "source": [
    "# Next, you will create a TextVectorization layer.\n",
    "max_features = 10000\n",
    "sequence_length = 250\n",
    "\n",
    "vectorize_layer = TextVectorization(\n",
    "    standardize=custom_standardization,\n",
    "    max_tokens=max_features,\n",
    "    output_mode='int',\n",
    "    output_sequence_length=sequence_length)"
   ]
  },
  {
   "cell_type": "code",
   "execution_count": 22,
   "id": "e753cf82-b842-4e25-8759-f833b6e6ef86",
   "metadata": {},
   "outputs": [],
   "source": [
    "# Next, you will call adapt to fit the state of the preprocessing layer to the dataset. \n",
    "# This will cause the model to build an index of strings to integers.\n",
    "# Make a text-only dataset (without labels), then call adapt.\n",
    "train_text = raw_train_ds.map(lambda x, y: x)\n",
    "vectorize_layer.adapt(train_text)"
   ]
  },
  {
   "cell_type": "code",
   "execution_count": 28,
   "id": "05da578c-8da3-43e0-9a9a-665830ddd8b4",
   "metadata": {},
   "outputs": [],
   "source": [
    "# Let's create a function to see the result of using this layer to preprocess some data.\n",
    "def vectorize_text(text, label):\n",
    "    text = tf.expand_dims(text, -1)\n",
    "    return vectorize_layer(text), label"
   ]
  },
  {
   "cell_type": "code",
   "execution_count": 27,
   "id": "231d2db8-fbaf-4432-9f54-50d95185f7f7",
   "metadata": {},
   "outputs": [
    {
     "name": "stdout",
     "output_type": "stream",
     "text": [
      "Review tf.Tensor(b'\"what is the difference between these two ways to create an element? var a = document.createelement(\\'div\\');..a.id = \"\"mydiv\"\";...and..var a = document.createelement(\\'div\\').id = \"\"mydiv\"\";...what is the difference between them such that the first one works and the second one doesn\\'t?\"\\n', shape=(), dtype=string)\n",
      "Label javascript\n",
      "tf.Tensor([b'\"what is the difference between these two ways to create an element? var a = document.createelement(\\'div\\');..a.id = \"\"mydiv\"\";...and..var a = document.createelement(\\'div\\').id = \"\"mydiv\"\";...what is the difference between them such that the first one works and the second one doesn\\'t?\"\\n'], shape=(1,), dtype=string)\n",
      "<class 'tensorflow.python.framework.ops.EagerTensor'>\n",
      "Vectorized review (<tf.Tensor: shape=(1, 250), dtype=int64, numpy=\n",
      "array([[ 55,   6,   2, 410, 211, 229, 121, 895,   4, 124,  32, 245,  43,\n",
      "          5,   1,   1,   5,   1,   1,   6,   2, 410, 211, 191, 318,  14,\n",
      "          2,  98,  71, 188,   8,   2, 199,  71, 178,   0,   0,   0,   0,\n",
      "          0,   0,   0,   0,   0,   0,   0,   0,   0,   0,   0,   0,   0,\n",
      "          0,   0,   0,   0,   0,   0,   0,   0,   0,   0,   0,   0,   0,\n",
      "          0,   0,   0,   0,   0,   0,   0,   0,   0,   0,   0,   0,   0,\n",
      "          0,   0,   0,   0,   0,   0,   0,   0,   0,   0,   0,   0,   0,\n",
      "          0,   0,   0,   0,   0,   0,   0,   0,   0,   0,   0,   0,   0,\n",
      "          0,   0,   0,   0,   0,   0,   0,   0,   0,   0,   0,   0,   0,\n",
      "          0,   0,   0,   0,   0,   0,   0,   0,   0,   0,   0,   0,   0,\n",
      "          0,   0,   0,   0,   0,   0,   0,   0,   0,   0,   0,   0,   0,\n",
      "          0,   0,   0,   0,   0,   0,   0,   0,   0,   0,   0,   0,   0,\n",
      "          0,   0,   0,   0,   0,   0,   0,   0,   0,   0,   0,   0,   0,\n",
      "          0,   0,   0,   0,   0,   0,   0,   0,   0,   0,   0,   0,   0,\n",
      "          0,   0,   0,   0,   0,   0,   0,   0,   0,   0,   0,   0,   0,\n",
      "          0,   0,   0,   0,   0,   0,   0,   0,   0,   0,   0,   0,   0,\n",
      "          0,   0,   0,   0,   0,   0,   0,   0,   0,   0,   0,   0,   0,\n",
      "          0,   0,   0,   0,   0,   0,   0,   0,   0,   0,   0,   0,   0,\n",
      "          0,   0,   0,   0,   0,   0,   0,   0,   0,   0,   0,   0,   0,\n",
      "          0,   0,   0]])>, <tf.Tensor: shape=(), dtype=int32, numpy=2>)\n"
     ]
    }
   ],
   "source": [
    "# Retrieve a batch (of 32 stackoverflow programming question and labels) from the dataset.\n",
    "text_batch, label_batch = next(iter(raw_train_ds))\n",
    "first_review, first_label = text_batch[0], label_batch[0]\n",
    "print(\"Review\", first_review)\n",
    "print(\"Label\", raw_train_ds.class_names[first_label])\n",
    "print(\"Vectorized review\", vectorize_text(first_review, first_label))"
   ]
  },
  {
   "cell_type": "code",
   "execution_count": 29,
   "id": "394691fa-3d87-41a2-bb43-2b4859e1352c",
   "metadata": {},
   "outputs": [
    {
     "name": "stdout",
     "output_type": "stream",
     "text": [
      "1287 --->  scissors\n",
      " 313 --->  source\n",
      "Vocabulary size: 10000\n"
     ]
    }
   ],
   "source": [
    "# As you can see above, each token has been replaced by an integer. \n",
    "# You can lookup the token (string) that\n",
    "# each integer corresponds to by calling .get_vocabulary() on the layer.\n",
    "print(\"1287 ---> \",vectorize_layer.get_vocabulary()[1287])\n",
    "print(\" 313 ---> \",vectorize_layer.get_vocabulary()[313])\n",
    "print('Vocabulary size: {}'.format(len(vectorize_layer.get_vocabulary())))"
   ]
  },
  {
   "cell_type": "code",
   "execution_count": 30,
   "id": "c696d2d5-8ff7-478f-b350-a42bfaddae70",
   "metadata": {},
   "outputs": [],
   "source": [
    "# You are nearly ready to train your model. As a final preprocessing step, you will apply\n",
    "# the TextVectorization layer you created earlier to the train, validation, and test dataset.\n",
    "train_ds = raw_train_ds.map(vectorize_text)\n",
    "val_ds = raw_val_ds.map(vectorize_text)\n",
    "test_ds = raw_test_ds.map(vectorize_text)"
   ]
  },
  {
   "cell_type": "code",
   "execution_count": 33,
   "id": "de27f825-642e-45b8-8298-db348b9b43b2",
   "metadata": {},
   "outputs": [],
   "source": [
    "# Example.\n",
    "AUTOTUNE = tf.data.AUTOTUNE\n",
    "\n",
    "train_ds = train_ds.cache().prefetch(buffer_size=AUTOTUNE)\n",
    "val_ds = val_ds.cache().prefetch(buffer_size=AUTOTUNE)\n",
    "test_ds = test_ds.cache().prefetch(buffer_size=AUTOTUNE)"
   ]
  },
  {
   "cell_type": "code",
   "execution_count": 35,
   "id": "39d9d62c-8692-49a4-b078-2459f3ea61cb",
   "metadata": {},
   "outputs": [
    {
     "name": "stdout",
     "output_type": "stream",
     "text": [
      "Model: \"sequential\"\n",
      "_________________________________________________________________\n",
      "Layer (type)                 Output Shape              Param #   \n",
      "=================================================================\n",
      "embedding (Embedding)        (None, None, 16)          160016    \n",
      "_________________________________________________________________\n",
      "dropout (Dropout)            (None, None, 16)          0         \n",
      "_________________________________________________________________\n",
      "global_average_pooling1d (Gl (None, 16)                0         \n",
      "_________________________________________________________________\n",
      "dropout_1 (Dropout)          (None, 16)                0         \n",
      "_________________________________________________________________\n",
      "dense (Dense)                (None, 4)                 68        \n",
      "=================================================================\n",
      "Total params: 160,084\n",
      "Trainable params: 160,084\n",
      "Non-trainable params: 0\n",
      "_________________________________________________________________\n"
     ]
    }
   ],
   "source": [
    "# Create a neural network.\n",
    "embedding_dim = 16\n",
    "model = tf.keras.Sequential([\n",
    "  layers.Embedding(max_features + 1, embedding_dim),\n",
    "  layers.Dropout(0.2),\n",
    "  layers.GlobalAveragePooling1D(),\n",
    "  layers.Dropout(0.2),\n",
    "  layers.Dense(4)])\n",
    "\n",
    "model.summary()"
   ]
  },
  {
   "cell_type": "code",
   "execution_count": 36,
   "id": "706da7c0-6440-4536-97d8-332aef592a82",
   "metadata": {},
   "outputs": [],
   "source": [
    "# Configure the model to use an optimizer and a loss function.\n",
    "model.compile(loss=losses.SparseCategoricalCrossentropy(from_logits=True),\n",
    "              optimizer='adam',\n",
    "              metrics=['accuracy'])"
   ]
  },
  {
   "cell_type": "code",
   "execution_count": 37,
   "id": "c7eef69c-889b-4bdc-88fc-d08d7a201337",
   "metadata": {},
   "outputs": [
    {
     "name": "stdout",
     "output_type": "stream",
     "text": [
      "Epoch 1/10\n",
      "200/200 [==============================] - 4s 15ms/step - loss: 1.3783 - accuracy: 0.3331 - val_loss: 1.3663 - val_accuracy: 0.5050\n",
      "Epoch 2/10\n",
      "200/200 [==============================] - 2s 8ms/step - loss: 1.3488 - accuracy: 0.4777 - val_loss: 1.3272 - val_accuracy: 0.5544\n",
      "Epoch 3/10\n",
      "200/200 [==============================] - 2s 8ms/step - loss: 1.2975 - accuracy: 0.5480 - val_loss: 1.2666 - val_accuracy: 0.5994\n",
      "Epoch 4/10\n",
      "200/200 [==============================] - 2s 8ms/step - loss: 1.2280 - accuracy: 0.5908 - val_loss: 1.1942 - val_accuracy: 0.6425\n",
      "Epoch 5/10\n",
      "200/200 [==============================] - 2s 8ms/step - loss: 1.1522 - accuracy: 0.6263 - val_loss: 1.1203 - val_accuracy: 0.6650\n",
      "Epoch 6/10\n",
      "200/200 [==============================] - 2s 8ms/step - loss: 1.0780 - accuracy: 0.6666 - val_loss: 1.0520 - val_accuracy: 0.7000\n",
      "Epoch 7/10\n",
      "200/200 [==============================] - 2s 8ms/step - loss: 1.0113 - accuracy: 0.6956 - val_loss: 0.9907 - val_accuracy: 0.7150\n",
      "Epoch 8/10\n",
      "200/200 [==============================] - 2s 9ms/step - loss: 0.9498 - accuracy: 0.7186 - val_loss: 0.9352 - val_accuracy: 0.7350\n",
      "Epoch 9/10\n",
      "200/200 [==============================] - 2s 9ms/step - loss: 0.8934 - accuracy: 0.7431 - val_loss: 0.8865 - val_accuracy: 0.7475\n",
      "Epoch 10/10\n",
      "200/200 [==============================] - 2s 10ms/step - loss: 0.8412 - accuracy: 0.7672 - val_loss: 0.8434 - val_accuracy: 0.7581\n"
     ]
    }
   ],
   "source": [
    "# Train model.\n",
    "epochs = 10\n",
    "history = model.fit(\n",
    "    train_ds,\n",
    "    validation_data=val_ds,\n",
    "    epochs=epochs)"
   ]
  },
  {
   "cell_type": "code",
   "execution_count": 38,
   "id": "ba62b65e-32e3-4362-984f-8a0b4b6378a7",
   "metadata": {},
   "outputs": [
    {
     "name": "stdout",
     "output_type": "stream",
     "text": [
      "250/250 [==============================] - 2s 7ms/step - loss: 0.8745 - accuracy: 0.7341\n",
      "Loss:  0.87452232837677\n",
      "Accuracy:  0.734125018119812\n"
     ]
    }
   ],
   "source": [
    "# Evaluate the model.\n",
    "loss, accuracy = model.evaluate(test_ds)\n",
    "\n",
    "print(\"Loss: \", loss)\n",
    "print(\"Accuracy: \", accuracy)"
   ]
  },
  {
   "cell_type": "code",
   "execution_count": 39,
   "id": "a657e3e5-0f54-4d1e-a5fd-71c2a777fc49",
   "metadata": {},
   "outputs": [
    {
     "data": {
      "text/plain": [
       "dict_keys(['loss', 'accuracy', 'val_loss', 'val_accuracy'])"
      ]
     },
     "execution_count": 39,
     "metadata": {},
     "output_type": "execute_result"
    }
   ],
   "source": [
    "# Create a plot of accuracy and loss over time.\n",
    "# model.fit() returns a History object that contains a dictionary with everything that happened during training.\n",
    "history_dict = history.history\n",
    "history_dict.keys()"
   ]
  },
  {
   "cell_type": "code",
   "execution_count": 40,
   "id": "150c7e6f-5a7e-4607-b321-45a155ac652d",
   "metadata": {},
   "outputs": [
    {
     "data": {
      "image/png": "[encoded data removed]",
      "text/plain": [
       "<Figure size 432x288 with 1 Axes>"
      ]
     },
     "metadata": {
      "needs_background": "light"
     },
     "output_type": "display_data"
    }
   ],
   "source": [
    "# There are four entries: one for each monitored metric during training and validation. \n",
    "# You can use these to plot the training and validation loss for comparison, as well as the\n",
    "# training and validation accuracy.\n",
    "acc = history_dict['accuracy']\n",
    "val_acc = history_dict['val_accuracy']\n",
    "loss = history_dict['loss']\n",
    "val_loss = history_dict['val_loss']\n",
    "\n",
    "epochs = range(1, len(acc) + 1)\n",
    "\n",
    "# \"bo\" is for \"blue dot\"\n",
    "plt.plot(epochs, loss, 'bo', label='Training loss')\n",
    "# b is for \"solid blue line\"\n",
    "plt.plot(epochs, val_loss, 'b', label='Validation loss')\n",
    "plt.title('Training and validation loss')\n",
    "plt.xlabel('Epochs')\n",
    "plt.ylabel('Loss')\n",
    "plt.legend()\n",
    "\n",
    "plt.show()"
   ]
  },
  {
   "cell_type": "code",
   "execution_count": 41,
   "id": "a7714a45-81ea-4eff-933d-aca17fc542c0",
   "metadata": {},
   "outputs": [
    {
     "data": {
      "image/png": "[encoded data removed]",
      "text/plain": [
       "<Figure size 432x288 with 1 Axes>"
      ]
     },
     "metadata": {
      "needs_background": "light"
     },
     "output_type": "display_data"
    }
   ],
   "source": [
    "plt.plot(epochs, acc, 'bo', label='Training acc')\n",
    "plt.plot(epochs, val_acc, 'b', label='Validation acc')\n",
    "plt.title('Training and validation accuracy')\n",
    "plt.xlabel('Epochs')\n",
    "plt.ylabel('Accuracy')\n",
    "plt.legend(loc='lower right')\n",
    "\n",
    "plt.show()"
   ]
  },
  {
   "cell_type": "code",
   "execution_count": 43,
   "id": "e329d449-68d8-4d58-942a-a30757aaafce",
   "metadata": {},
   "outputs": [
    {
     "name": "stdout",
     "output_type": "stream",
     "text": [
      "250/250 [==============================] - 2s 8ms/step - loss: 0.8745 - accuracy: 0.7341\n",
      "0.734125018119812\n"
     ]
    }
   ],
   "source": [
    "export_model = tf.keras.Sequential([\n",
    "  vectorize_layer,\n",
    "  model,\n",
    "  layers.Activation('sigmoid')\n",
    "])\n",
    "\n",
    "export_model.compile(\n",
    "    loss=losses.SparseCategoricalCrossentropy(from_logits=False), optimizer=\"adam\", metrics=['accuracy']\n",
    ")\n",
    "\n",
    "# Test it with `raw_test_ds`, which yields raw strings\n",
    "loss, accuracy = export_model.evaluate(raw_test_ds)\n",
    "print(accuracy)"
   ]
  },
  {
   "cell_type": "code",
   "execution_count": 44,
   "id": "788292da-c04c-4890-b1f7-b3f4c9e6c57b",
   "metadata": {},
   "outputs": [],
   "source": [
    "examples = [\n",
    "       \"how do I extract keys from a dict into a list?\",  # python\n",
    "       \"debug public static void main(string[] args) {...}\",  # java\n",
    "       ]"
   ]
  },
  {
   "cell_type": "code",
   "execution_count": 47,
   "id": "1d0f01ac-91ba-4167-b74e-215381e77772",
   "metadata": {},
   "outputs": [
    {
     "data": {
      "text/plain": [
       "5"
      ]
     },
     "execution_count": 47,
     "metadata": {},
     "output_type": "execute_result"
    }
   ],
   "source": [
    "import numpy as np\n",
    "model_result = export_model.predict(examples)"
   ]
  },
  {
   "cell_type": "code",
   "execution_count": 100,
   "id": "86cfc5e2-5fcb-442f-be38-9760be789753",
   "metadata": {},
   "outputs": [
    {
     "data": {
      "text/plain": [
       "<BatchDataset shapes: ((None,), (None,)), types: (tf.string, tf.int32)>"
      ]
     },
     "execution_count": 100,
     "metadata": {},
     "output_type": "execute_result"
    }
   ],
   "source": [
    "raw_train_ds"
   ]
  },
  {
   "cell_type": "code",
   "execution_count": 58,
   "id": "65eae575-af99-46a9-a732-22054154b9ef",
   "metadata": {},
   "outputs": [
    {
     "name": "stdout",
     "output_type": "stream",
     "text": [
      "3\n",
      "python\n"
     ]
    }
   ],
   "source": [
    "print(np.argmax(model_result[0]))\n",
    "print(raw_train_ds.class_names[np.argmax(model_result[0])])"
   ]
  },
  {
   "cell_type": "code",
   "execution_count": 53,
   "id": "32b30d62-db9e-4f3d-b196-9418d63c643f",
   "metadata": {},
   "outputs": [
    {
     "name": "stdout",
     "output_type": "stream",
     "text": [
      "1\n",
      "java\n"
     ]
    }
   ],
   "source": [
    "print(np.argmax(model_result[1]))\n",
    "print(raw_train_ds.class_names[np.argmax(model_result[1])])"
   ]
  },
  {
   "cell_type": "code",
   "execution_count": 66,
   "id": "23b5cdbf-485b-4d09-b295-28c49ca322c4",
   "metadata": {},
   "outputs": [
    {
     "name": "stdout",
     "output_type": "stream",
     "text": [
      "Question:  how do I extract keys from a dict into a list?\n",
      "Predicted label:  b'python'\n",
      "Question:  debug public static void main(string[] args) {...}\n",
      "Predicted label:  b'java'\n"
     ]
    }
   ],
   "source": [
    "predicted_int_labels = tf.argmax(model_result, axis=1)\n",
    "predicted_labels = tf.gather(raw_train_ds.class_names,\n",
    "                               predicted_int_labels)\n",
    "for example, label in zip(examples, predicted_labels):\n",
    "    print(\"Question: \", example)\n",
    "    print(\"Predicted label: \", label.numpy())"
   ]
  },
  {
   "cell_type": "code",
   "execution_count": 74,
   "id": "1c480ca8-198d-4119-8e57-75185ec000e0",
   "metadata": {},
   "outputs": [
    {
     "name": "stdout",
     "output_type": "stream",
     "text": [
      "INFO:tensorflow:Assets written to: stackoverflow_model/assets\n"
     ]
    }
   ],
   "source": [
    "# Save model as .pb\n",
    "export_model.save(\"stackoverflow_model\")"
   ]
  },
  {
   "cell_type": "code",
   "execution_count": 72,
   "id": "eab92b9b-7284-4234-b6d0-9ac2a93bc2c8",
   "metadata": {},
   "outputs": [],
   "source": [
    "# Save the model. (HDF5JSON)\n",
    "try:\n",
    "    model_json = export_model.to_json()\n",
    "    with open(\"model.json\", \"w\") as json_file:\n",
    "        json_file.write(model_json)\n",
    "    export_model.save_weights(\"model.hdf5\")\n",
    "except:\n",
    "    pass"
   ]
  },
  {
   "cell_type": "code",
   "execution_count": 75,
   "id": "af1f131b-9d02-4583-9121-114cf599d411",
   "metadata": {},
   "outputs": [
    {
     "name": "stderr",
     "output_type": "stream",
     "text": [
      "2021-08-12 21:04:02.958020: W tensorflow/compiler/mlir/lite/python/tf_tfl_flatbuffer_helpers.cc:351] Ignored output_format.\n",
      "2021-08-12 21:04:02.958045: W tensorflow/compiler/mlir/lite/python/tf_tfl_flatbuffer_helpers.cc:354] Ignored drop_control_dependency.\n",
      "2021-08-12 21:04:02.958054: W tensorflow/compiler/mlir/lite/python/tf_tfl_flatbuffer_helpers.cc:360] Ignored change_concat_input_ranges.\n",
      "2021-08-12 21:04:02.963769: I tensorflow/cc/saved_model/reader.cc:38] Reading SavedModel from: stackoverflow_model\n",
      "2021-08-12 21:04:02.974756: I tensorflow/cc/saved_model/reader.cc:90] Reading meta graph with tags { serve }\n",
      "2021-08-12 21:04:02.974833: I tensorflow/cc/saved_model/reader.cc:132] Reading SavedModel debug info (if present) from: stackoverflow_model\n",
      "2021-08-12 21:04:03.000024: I tensorflow/cc/saved_model/loader.cc:211] Restoring SavedModel bundle.\n",
      "2021-08-12 21:04:03.113360: I tensorflow/cc/saved_model/loader.cc:195] Running initialization op on SavedModel bundle at path: stackoverflow_model\n",
      "2021-08-12 21:04:03.266585: I tensorflow/cc/saved_model/loader.cc:283] SavedModel load for tags { serve }; Status: suc"
     ]
    },
    {
     "data": {
      "text/plain": [
       "375232"
      ]
     },
     "execution_count": 75,
     "metadata": {},
     "output_type": "execute_result"
    },
    {
     "name": "stderr",
     "output_type": "stream",
     "text": [
      "cess: OK. Took 303201 microseconds.\n",
      "2021-08-12 21:04:03.393470: I tensorflow/compiler/mlir/tensorflow/utils/dump_mlir_util.cc:210] disabling MLIR crash reproducer, set env var `MLIR_CRASH_REPRODUCER_DIRECTORY` to enable.\n",
      "2021-08-12 21:04:03.592806: W tensorflow/compiler/mlir/lite/flatbuffer_export.cc:1838] TFLite interpreter needs to link Flex delegate in order to run the model since it contains the following flex op(s):\n",
      "Flex ops: FlexBincount, FlexRaggedTensorToTensor, FlexStaticRegexReplace, FlexStringLower, FlexStringSplitV2\n",
      "Details:\n",
      "\ttf.Bincount(tensor<?xi32>, tensor<i32>, tensor<0xi64>) -> (tensor<?xi64>) : {device = \"\"}\n",
      "\ttf.RaggedTensorToTensor(tensor<2xi64>, tensor<*xi64>, tensor<i64>, tensor<?xi64>) -> (tensor<?x250xi64>) : {T = i64, Tindex = i64, Tshape = i64, device = \"\", num_row_partition_tensors = 1 : i64, row_partition_types = [\"ROW_SPLITS\"]}\n",
      "\ttf.StaticRegexReplace(tensor<?x!tf.string>) -> (tensor<?x!tf.string>) : {device = \"\", pattern = \"<br />\", replace_global = true, rewrite = \" \"}\n",
      "\ttf.StaticRegexReplace(tensor<?x!tf.string>) -> (tensor<?x!tf.string>) : {device = \"\", pattern = \"[!\\22\\\\#\\\\$%\\\\&'\\\\(\\\\)\\\\*\\\\+,\\\\-\\\\./:;<=>\\\\?@\\\\[\\\\\\\\\\\\]\\\\^_`\\\\{\\\\|\\\\}\\\\~]\", replace_global = true, rewrite = \"\"}\n",
      "\ttf.StringLower(tensor<?x!tf.string>) -> (tensor<?x!tf.string>) : {device = \"\", encoding = \"\"}\n",
      "\ttf.StringSplitV2(tensor<?x!tf.string>, tensor<!tf.string>) -> (tensor<?x2xi64>, tensor<?x!tf.string>, tensor<2xi64>) : {device = \"\", maxsplit = -1 : i64}\n",
      "2021-08-12 21:04:03.598901: I tensorflow/lite/tools/optimize/quantize_weights.cc:225] Skipping quantization of tensor sequential_2/sequential/dense/MatMul because it has fewer than 1024 elements (64).\n"
     ]
    }
   ],
   "source": [
    "# Get TFLite from a pb model. (https://github.com/tensorflow/models/issues/8872)\n",
    "converter = tf.lite.TFLiteConverter.from_saved_model(\"stackoverflow_model\")\n",
    "converter.optimizations = [tf.lite.Optimize.DEFAULT]\n",
    "converter.experimental_new_converter = True\n",
    "converter.target_spec.supported_ops = [tf.lite.OpsSet.TFLITE_BUILTINS, tf.lite.OpsSet.SELECT_TF_OPS]\n",
    "tflite_model = converter.convert()\n",
    "open(\"stackoverflow.tflite\",\"wb\").write(tflite_model)"
   ]
  },
  {
   "cell_type": "code",
   "execution_count": 76,
   "id": "9398dd4b-8156-4ac0-9b49-11f04ff1a95d",
   "metadata": {},
   "outputs": [
    {
     "name": "stderr",
     "output_type": "stream",
     "text": [
      "INFO: Created TensorFlow Lite delegate for select TF ops.\n",
      "INFO: TfLiteFlexDelegate delegate: 6 nodes delegated out of 33 nodes with 3 partitions.\n",
      "\n",
      "INFO: TfLiteFlexDelegate delegate: 0 nodes delegated out of 2 nodes with 0 partitions.\n",
      "\n"
     ]
    }
   ],
   "source": [
    "# Preload model.\n",
    "from tensorflow import (\n",
    "    convert_to_tensor,\n",
    "    lite,\n",
    ")\n",
    "import numpy as np\n",
    "model_path=\"stackoverflow.tflite\"\n",
    "interpreter = lite.Interpreter(model_path=str(model_path), num_threads=4)\n",
    "interpreter.allocate_tensors()\n",
    "input_details = interpreter.get_input_details()\n",
    "output_details = interpreter.get_output_details()"
   ]
  },
  {
   "cell_type": "code",
   "execution_count": 90,
   "id": "e0a730c0-3ef6-4a23-a482-4e4e413c8c04",
   "metadata": {
    "tags": []
   },
   "outputs": [
    {
     "name": "stdout",
     "output_type": "stream",
     "text": [
      "[[0.5192488  0.44475478 0.49689102 0.52869517]]\n",
      "[[0.61786216 0.62723064 0.3947213  0.35327834]]\n"
     ]
    },
    {
     "data": {
      "text/plain": [
       "{'how do I extract keys from a dict into a list?': [3, 'python'],\n",
       " 'debug public static void main(string[] args) {...}': [1, 'java']}"
      ]
     },
     "execution_count": 90,
     "metadata": {},
     "output_type": "execute_result"
    }
   ],
   "source": [
    "# TFLite prediction.\n",
    "result = {}\n",
    "for ex in examples:\n",
    "    text = np.expand_dims(np.array(ex), axis=0)\n",
    "    interpreter.set_tensor(input_details[0]['index'], text)\n",
    "    interpreter.invoke()\n",
    "    prediction = interpreter.get_tensor(output_details[0]['index'])\n",
    "    print(prediction)\n",
    "    result.update({ex:[np.argmax(prediction[0]), raw_train_ds.class_names[np.argmax(prediction[0])]]})\n",
    "result"
   ]
  }
 ],
 "metadata": {
  "kernelspec": {
   "display_name": "djangotflite",
   "language": "python",
   "name": "djangotflite"
  },
  "language_info": {
   "codemirror_mode": {
    "name": "ipython",
    "version": 3
   },
   "file_extension": ".py",
   "mimetype": "text/x-python",
   "name": "python",
   "nbconvert_exporter": "python",
   "pygments_lexer": "ipython3",
   "version": "3.9.6"
  }
 },
 "nbformat": 4,
 "nbformat_minor": 5
}
